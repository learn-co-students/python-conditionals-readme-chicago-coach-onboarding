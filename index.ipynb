{
 "cells": [
  {
   "cell_type": "markdown",
   "metadata": {},
   "source": [
    "# Conditionals"
   ]
  },
  {
   "cell_type": "markdown",
   "metadata": {},
   "source": [
    "## Introduction"
   ]
  },
  {
   "cell_type": "markdown",
   "metadata": {},
   "source": [
    "We have been learning about different ways to use Python to interact with and manipulate data. However, we havent yet had a way to dynamically manipulate data or perform actions. For example, if a restaurant is too expensive we may want to choose a different one. If it's too cold outside, we should find something to do inside. These are just simple examples of decisions we might want our code to make as well. In this lab, we will introduce conditionals that allow us to do just that. We can use some pieces of data to inform decisions and choose one operation over any number of others."
   ]
  },
  {
   "cell_type": "markdown",
   "metadata": {},
   "source": [
    "## Learning Objectives"
   ]
  },
  {
   "cell_type": "markdown",
   "metadata": {},
   "source": [
    "* Understand how an `if` statement can change the execution flow of our code when certain conditions are met\n",
    "* Understand how the `if` keyword works with the `else` keyword in Python\n",
    "* See how to select certain data by combining `if` statements in `for` loops "
   ]
  },
  {
   "cell_type": "markdown",
   "metadata": {},
   "source": [
    "## If Statement and Execution Flow"
   ]
  },
  {
   "cell_type": "markdown",
   "metadata": {},
   "source": [
    "So far in Python, all of our lines of code run one after the other. So in the code below, `vacation_days` is initially assigned to `0`, then it is reassigned by incrementing by one, and again reassigned by incrementing again by one, which brings the `vacation_days` to a total of `2`."
   ]
  },
  {
   "cell_type": "code",
   "execution_count": 3,
   "metadata": {},
   "outputs": [
    {
     "data": {
      "text/plain": [
       "2"
      ]
     },
     "execution_count": 3,
     "metadata": {},
     "output_type": "execute_result"
    }
   ],
   "source": [
    "vacation_days = 0\n",
    "vacation_days += 1\n",
    "vacation_days += 1\n",
    "vacation_days"
   ]
  },
  {
   "cell_type": "markdown",
   "metadata": {},
   "source": [
    "> The `+=` is used to increment. The statement `vacation_days += 1` can be thought of as `vacation_days = vacation_days + 1`. On line 2, `vacation_days` is `0`. Then we reassign `vacation_days` to equal the current value of `vacation_days`, which is `0`, plus `1`. Again we increment vacation_days on line 3, which would now equate to `1 + 1`, and finally we output the new value of `vacation_days`, `2`.\n",
    "\n",
    "\n",
    "Contrast this with code that contains an `if` statement. Code that is part of an `if` block runs only when the conditional argument following the `if` evaluates to `True`. So it is not necessarily the case that every line of code runs."
   ]
  },
  {
   "cell_type": "code",
   "execution_count": 4,
   "metadata": {},
   "outputs": [
    {
     "name": "stdout",
     "output_type": "stream",
     "text": [
      "we did NOT increment vacation days\n"
     ]
    }
   ],
   "source": [
    "vacation_days = 1\n",
    "if False:\n",
    "    # code does not run as conditional argument False\n",
    "    vacation_days += 1\n",
    "    print(\"we incremented vacation days\")\n",
    "if True:\n",
    "    print(\"we did NOT increment vacation days\")\n",
    "    "
   ]
  },
  {
   "cell_type": "code",
   "execution_count": 5,
   "metadata": {},
   "outputs": [
    {
     "data": {
      "text/plain": [
       "1"
      ]
     },
     "execution_count": 5,
     "metadata": {},
     "output_type": "execute_result"
    }
   ],
   "source": [
    "vacation_days"
   ]
  },
  {
   "cell_type": "markdown",
   "metadata": {
    "collapsed": true
   },
   "source": [
    "Above we can see that since the condition following the `if` equals `False`, the code directly underneath is not run.  So, `vacation_days` stays assigned to the number 1.  \n",
    "\n",
    "> **Note:** A *block* is any piece of code that grouped together.\n",
    "\n",
    "With conditionals, we indicate that something is part of the *block* by indenting. So the line `vacation_days += 1` is indented to ensure that it is run as a part of the conditional argument above. To end the block we simply stop indenting."
   ]
  },
  {
   "cell_type": "code",
   "execution_count": 6,
   "metadata": {},
   "outputs": [
    {
     "data": {
      "text/plain": [
       "3"
      ]
     },
     "execution_count": 6,
     "metadata": {},
     "output_type": "execute_result"
    }
   ],
   "source": [
    "vacation_days = 1\n",
    "if False: \n",
    "    # if block begins\n",
    "    vacation_days += 1\n",
    "# if block ends\n",
    "vacation_days += 2\n",
    "vacation_days"
   ]
  },
  {
   "cell_type": "markdown",
   "metadata": {},
   "source": [
    "So in the above cell, the last two lines are run because they are **not** part of the `if` block.\n",
    "\n",
    "And, as you may have guessed, when the conditional argument is `True`, the code in the conditional block **does** run.  "
   ]
  },
  {
   "cell_type": "code",
   "execution_count": 6,
   "metadata": {
    "scrolled": true
   },
   "outputs": [
    {
     "data": {
      "text/plain": [
       "2"
      ]
     },
     "execution_count": 6,
     "metadata": {},
     "output_type": "execute_result"
    }
   ],
   "source": [
    "vacation_days = 1\n",
    "if True:\n",
    "    # code in if block runs, as True\n",
    "    vacation_days += 1\n",
    "vacation_days"
   ]
  },
  {
   "cell_type": "markdown",
   "metadata": {},
   "source": [
    "## Truthiness"
   ]
  },
  {
   "cell_type": "markdown",
   "metadata": {},
   "source": [
    "![truthiness](truthiness.png \"Truthiness\")"
   ]
  },
  {
   "cell_type": "markdown",
   "metadata": {},
   "source": [
    "So far our conditionals have depended on whether something evaluates exactly to `True` or `False`.  But conditionals don't force us to be so precise. Conditionals also consider some values `True` if they are `truthy` and `False` if they are `falsy`.  Take a look at the following:"
   ]
  },
  {
   "cell_type": "code",
   "execution_count": 24,
   "metadata": {},
   "outputs": [
    {
     "data": {
      "text/plain": [
       "2"
      ]
     },
     "execution_count": 24,
     "metadata": {},
     "output_type": "execute_result"
    }
   ],
   "source": [
    "vacation_days = 1\n",
    "if vacation_days:\n",
    "    # this is run\n",
    "    vacation_days += 1\n",
    "vacation_days"
   ]
  },
  {
   "cell_type": "markdown",
   "metadata": {},
   "source": [
    "Even through `vacation_days` did not equal `True` above, it still ran the code in the `if` block because the value for `vacation_days` was `1`, which is considered `truthy`."
   ]
  },
  {
   "cell_type": "markdown",
   "metadata": {},
   "source": [
    "However, `0` is **not** considered truthy.  "
   ]
  },
  {
   "cell_type": "code",
   "execution_count": 25,
   "metadata": {},
   "outputs": [
    {
     "data": {
      "text/plain": [
       "0"
      ]
     },
     "execution_count": 25,
     "metadata": {},
     "output_type": "execute_result"
    }
   ],
   "source": [
    "vacation_days = 0\n",
    "if vacation_days:\n",
    "    # this is not run\n",
    "    vacation_days += 1\n",
    "vacation_days"
   ]
  },
  {
   "cell_type": "markdown",
   "metadata": {},
   "source": [
    "Since `0` is **not** `truthy`, it is considered `falsy`. We can see that the `if` block was not run and `vacation_days` was not incremented, almost as if `vacation_days` evaluated to `False`. \n",
    "\n",
    "So what is truthy and what is falsy in Python?  Zero is falsy, and `None` is falsy.  Also falsy are values like empty lists and strings (e.g. `''`, `[]`) Let's take a look at that. "
   ]
  },
  {
   "cell_type": "code",
   "execution_count": 44,
   "metadata": {
    "scrolled": true
   },
   "outputs": [
    {
     "data": {
      "text/plain": [
       "'Goodbye'"
      ]
     },
     "execution_count": 44,
     "metadata": {},
     "output_type": "execute_result"
    }
   ],
   "source": [
    "greeting = ''\n",
    "if greeting:\n",
    "    greeting += 'Hello'\n",
    "else:\n",
    "    greeting += 'Goodbye'\n",
    "greeting"
   ]
  },
  {
   "cell_type": "markdown",
   "metadata": {},
   "source": [
    "If we are ever curious about the whether something is truthy or falsy in Python, we can just ask with the `bool` function."
   ]
  },
  {
   "cell_type": "code",
   "execution_count": 45,
   "metadata": {
    "scrolled": true
   },
   "outputs": [
    {
     "data": {
      "text/plain": [
       "False"
      ]
     },
     "execution_count": 45,
     "metadata": {},
     "output_type": "execute_result"
    }
   ],
   "source": [
    "bool(0) # False"
   ]
  },
  {
   "cell_type": "code",
   "execution_count": 46,
   "metadata": {},
   "outputs": [
    {
     "data": {
      "text/plain": [
       "True"
      ]
     },
     "execution_count": 46,
     "metadata": {},
     "output_type": "execute_result"
    }
   ],
   "source": [
    "bool(1) # True"
   ]
  },
  {
   "cell_type": "code",
   "execution_count": 47,
   "metadata": {
    "scrolled": true
   },
   "outputs": [
    {
     "data": {
      "text/plain": [
       "False"
      ]
     },
     "execution_count": 47,
     "metadata": {},
     "output_type": "execute_result"
    }
   ],
   "source": [
    "bool('')"
   ]
  },
  {
   "cell_type": "code",
   "execution_count": 48,
   "metadata": {},
   "outputs": [
    {
     "data": {
      "text/plain": [
       "False"
      ]
     },
     "execution_count": 48,
     "metadata": {},
     "output_type": "execute_result"
    }
   ],
   "source": [
    "bool([])"
   ]
  },
  {
   "cell_type": "markdown",
   "metadata": {
    "collapsed": true
   },
   "source": [
    "## Using Data to Make Decisions"
   ]
  },
  {
   "cell_type": "markdown",
   "metadata": {},
   "source": [
    "Our code in conditional arguments becomes more interesting when we use conditional arguments that are less direct than just `True` or `False`.\n",
    "\n",
    "Let's say you have a management system that allows employees to put in their vacation days and the system has a way of auto tagging vacations as disruptive, average, or minimal based on the number of days being taken off. This helps to give immediate feedback for you so that you can make sure to plan deadlines and staff projects  appropriately. So, we'll use conditional statements that use the number of days taken off as the input to figure out if the vacation is disruptive, normal, or minimal. \n",
    "\n",
    "Let's start out with just creating logic that creates a tag for disruptive vacations or vacations longer than 5 days off of work. All other vacations can be tagged as average."
   ]
  },
  {
   "cell_type": "code",
   "execution_count": 20,
   "metadata": {},
   "outputs": [
    {
     "name": "stdout",
     "output_type": "stream",
     "text": [
      "#disruptive\n"
     ]
    }
   ],
   "source": [
    "number_of_days = 7\n",
    "if number_of_days > 5:\n",
    "    print(\"#disruptive\")\n",
    "else:\n",
    "    print(\"#average\")"
   ]
  },
  {
   "cell_type": "markdown",
   "metadata": {},
   "source": [
    "Great, now what if we want to tag vacations that are under 3 days off as minimally disruptive? Well, we don't want to create a new if block entirely. If we do, then our else statement will always run and we'll get `#average` and `#minimal`, which is not what we want. \n",
    "\n",
    "So, Python provides us with another conditional statement that is in between if and else, `elif`. This is basically saying, okay if the first `if` statement doesnt pass, check the next `if` statement until you hit an `else` or the block ends. "
   ]
  },
  {
   "cell_type": "code",
   "execution_count": 22,
   "metadata": {},
   "outputs": [
    {
     "name": "stdout",
     "output_type": "stream",
     "text": [
      "#minimal\n"
     ]
    }
   ],
   "source": [
    "number_of_days = 2\n",
    "if number_of_days > 5:\n",
    "    print(\"#disruptive\")\n",
    "elif number_of_days < 3:\n",
    "    print(\"#minimal\")\n",
    "else:\n",
    "    print(\"#average\")"
   ]
  },
  {
   "cell_type": "code",
   "execution_count": 23,
   "metadata": {},
   "outputs": [
    {
     "name": "stdout",
     "output_type": "stream",
     "text": [
      "#average\n"
     ]
    }
   ],
   "source": [
    "number_of_days = 3\n",
    "if number_of_days > 5:\n",
    "    print(\"#disruptive\")\n",
    "elif number_of_days < 3:\n",
    "    print(\"#minimal\")\n",
    "else:\n",
    "    print(\"#average\")"
   ]
  },
  {
   "cell_type": "markdown",
   "metadata": {},
   "source": [
    "We can see how powerful this kind of code can be to creating a dynamic and efficient programs and to makings decisions. Now, there is no need for anyone to manually rank each employee's vacations and we have a system that flags vacations that might need some special planning by management in order to keep work running smoothly."
   ]
  },
  {
   "cell_type": "markdown",
   "metadata": {},
   "source": [
    "### Conditionals in Loops"
   ]
  },
  {
   "cell_type": "markdown",
   "metadata": {},
   "source": [
    "Finally, we can use conditionals in loops.  This is great at filtering out certain elements and selecting just what we need.  Let's see this."
   ]
  },
  {
   "cell_type": "code",
   "execution_count": 31,
   "metadata": {
    "scrolled": true
   },
   "outputs": [
    {
     "name": "stdout",
     "output_type": "stream",
     "text": [
      "['hello', 'hola', 'hallo']\n"
     ]
    }
   ],
   "source": [
    "greetings = ['hello', 'bonjour', 'hola', 'hallo', 'ciao', 'ola', 'namaste', 'salam']\n",
    "\n",
    "selected = []\n",
    "\n",
    "for greeting in greetings:\n",
    "    if greeting.startswith('h'):\n",
    "        selected.append(greeting) \n",
    "\n",
    "print(selected)"
   ]
  },
  {
   "cell_type": "markdown",
   "metadata": {},
   "source": [
    "The above `for` loop uses a conditional to move through the list of words one by one and check if the word starts with `h`. **If** it does, it adds that word to the `selected` list. Then we print that list of selected words to see which words were copied from the greetings list. \n",
    "\n",
    "We can see that our loop and conditional statement were sucessfull and only added in the greetings that started with `'h'`. So by using the `for` loop combined with an `if` statement we can choose elements of a list based on specific criteria."
   ]
  },
  {
   "cell_type": "markdown",
   "metadata": {},
   "source": [
    "### Summary"
   ]
  },
  {
   "cell_type": "markdown",
   "metadata": {},
   "source": [
    "In this lesson, we saw how conditionals allow us to make decisions with our code by only executing code under the `if` statement when the conditional argument is `True` or truthy.  We then saw how we can use the `else` statement to only run code when the conditional argument is `False` or falsy, and as we know, code that is not in a conditional block is still run as normal.  \n",
    "\n",
    "We examined what is truthy or falsy, and saw that None, 0, empty strings and lists are falsy. If we are unsure, we can use the `bool` function to see a the boolean value of a piece of data. Finally, we saw how by using `if` in a `for` loop we can return a subset of a collection that meets a criteria."
   ]
  }
 ],
 "metadata": {
  "kernelspec": {
   "display_name": "Python 3",
   "language": "python",
   "name": "python3"
  },
  "language_info": {
   "codemirror_mode": {
    "name": "ipython",
    "version": 3
   },
   "file_extension": ".py",
   "mimetype": "text/x-python",
   "name": "python",
   "nbconvert_exporter": "python",
   "pygments_lexer": "ipython3",
   "version": "3.6.5"
  }
 },
 "nbformat": 4,
 "nbformat_minor": 2
}
